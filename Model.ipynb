{
 "cells": [
  {
   "cell_type": "markdown",
   "metadata": {},
   "source": [
    "# DengAI\n",
    "This project comes from the challenge proposed by [DRIVENDATA](https://www.drivendata.org/competitions/44/dengai-predicting-disease-spread/). The goal consists of predicting how many dengue fever cases occur in two different cities. In order to do so, they provide a set of standard features that include aspects such as temperature, level of vegetation, etc.\n",
    "\n",
    "It is important to state that since our intention is to predict the number of cases this is a regression problem. However, if we quantize the ```y``` labels we might also consider a classification problem, although we leave such task for another analysis."
   ]
  },
  {
   "cell_type": "markdown",
   "metadata": {},
   "source": [
    "## Reading data"
   ]
  },
  {
   "cell_type": "code",
   "execution_count": 3,
   "metadata": {},
   "outputs": [
    {
     "name": "stdout",
     "output_type": "stream",
     "text": [
      "Training data readed!\n",
      "Cities: ['sj' 'iq']\n"
     ]
    }
   ],
   "source": [
    "import pandas as pd\n",
    "import os\n",
    "import numpy as np\n",
    "\n",
    "def read_data(data_file):\n",
    "    data_structure = pd.read_csv(os.path.join('data',data_file))\n",
    "    return data_structure\n",
    "\n",
    "features = read_data('dengue_features_train.csv');\n",
    "labels = read_data('dengue_labels_train.csv');\n",
    "print('Training data readed!')\n",
    "\n",
    "# We mix features and labels in a single dataset for commodity\n",
    "features['total_cases']=labels['total_cases']\n",
    "# Number of cities\n",
    "print('Cities: {}'.format(features.city.unique()))\n"
   ]
  },
  {
   "cell_type": "markdown",
   "metadata": {},
   "source": [
    "In order to grasp the dataset we focus on one of the cities. Then, we can replicate our analyses with the other one."
   ]
  },
  {
   "cell_type": "code",
   "execution_count": 4,
   "metadata": {},
   "outputs": [],
   "source": [
    "# We split data for the two cities\n",
    "#city_data = features[features['city'] == 'sj']\n",
    "city_data = features[features['city'] == 'iq']\n"
   ]
  },
  {
   "cell_type": "markdown",
   "metadata": {},
   "source": [
    "# Data imputation\n",
    "We check out how many of the features are missing (NaN) columnwise. It is important to appoint such values, since models might be affected by those points."
   ]
  },
  {
   "cell_type": "code",
   "execution_count": 5,
   "metadata": {},
   "outputs": [
    {
     "data": {
      "text/html": [
       "<div>\n",
       "<style scoped>\n",
       "    .dataframe tbody tr th:only-of-type {\n",
       "        vertical-align: middle;\n",
       "    }\n",
       "\n",
       "    .dataframe tbody tr th {\n",
       "        vertical-align: top;\n",
       "    }\n",
       "\n",
       "    .dataframe thead th {\n",
       "        text-align: right;\n",
       "    }\n",
       "</style>\n",
       "<table border=\"1\" class=\"dataframe\">\n",
       "  <thead>\n",
       "    <tr style=\"text-align: right;\">\n",
       "      <th></th>\n",
       "      <th>Number of missing elements</th>\n",
       "    </tr>\n",
       "  </thead>\n",
       "  <tbody>\n",
       "    <tr>\n",
       "      <th>ndvi_ne</th>\n",
       "      <td>3</td>\n",
       "    </tr>\n",
       "    <tr>\n",
       "      <th>ndvi_nw</th>\n",
       "      <td>3</td>\n",
       "    </tr>\n",
       "    <tr>\n",
       "      <th>ndvi_se</th>\n",
       "      <td>3</td>\n",
       "    </tr>\n",
       "    <tr>\n",
       "      <th>ndvi_sw</th>\n",
       "      <td>3</td>\n",
       "    </tr>\n",
       "    <tr>\n",
       "      <th>precipitation_amt_mm</th>\n",
       "      <td>4</td>\n",
       "    </tr>\n",
       "    <tr>\n",
       "      <th>reanalysis_air_temp_k</th>\n",
       "      <td>4</td>\n",
       "    </tr>\n",
       "    <tr>\n",
       "      <th>reanalysis_avg_temp_k</th>\n",
       "      <td>4</td>\n",
       "    </tr>\n",
       "    <tr>\n",
       "      <th>reanalysis_dew_point_temp_k</th>\n",
       "      <td>4</td>\n",
       "    </tr>\n",
       "    <tr>\n",
       "      <th>reanalysis_max_air_temp_k</th>\n",
       "      <td>4</td>\n",
       "    </tr>\n",
       "    <tr>\n",
       "      <th>reanalysis_min_air_temp_k</th>\n",
       "      <td>4</td>\n",
       "    </tr>\n",
       "    <tr>\n",
       "      <th>reanalysis_precip_amt_kg_per_m2</th>\n",
       "      <td>4</td>\n",
       "    </tr>\n",
       "    <tr>\n",
       "      <th>reanalysis_relative_humidity_percent</th>\n",
       "      <td>4</td>\n",
       "    </tr>\n",
       "    <tr>\n",
       "      <th>reanalysis_sat_precip_amt_mm</th>\n",
       "      <td>4</td>\n",
       "    </tr>\n",
       "    <tr>\n",
       "      <th>reanalysis_specific_humidity_g_per_kg</th>\n",
       "      <td>4</td>\n",
       "    </tr>\n",
       "    <tr>\n",
       "      <th>reanalysis_tdtr_k</th>\n",
       "      <td>4</td>\n",
       "    </tr>\n",
       "    <tr>\n",
       "      <th>station_avg_temp_c</th>\n",
       "      <td>37</td>\n",
       "    </tr>\n",
       "    <tr>\n",
       "      <th>station_diur_temp_rng_c</th>\n",
       "      <td>37</td>\n",
       "    </tr>\n",
       "    <tr>\n",
       "      <th>station_max_temp_c</th>\n",
       "      <td>14</td>\n",
       "    </tr>\n",
       "    <tr>\n",
       "      <th>station_min_temp_c</th>\n",
       "      <td>8</td>\n",
       "    </tr>\n",
       "    <tr>\n",
       "      <th>station_precip_mm</th>\n",
       "      <td>16</td>\n",
       "    </tr>\n",
       "  </tbody>\n",
       "</table>\n",
       "</div>"
      ],
      "text/plain": [
       "                                       Number of missing elements\n",
       "ndvi_ne                                                         3\n",
       "ndvi_nw                                                         3\n",
       "ndvi_se                                                         3\n",
       "ndvi_sw                                                         3\n",
       "precipitation_amt_mm                                            4\n",
       "reanalysis_air_temp_k                                           4\n",
       "reanalysis_avg_temp_k                                           4\n",
       "reanalysis_dew_point_temp_k                                     4\n",
       "reanalysis_max_air_temp_k                                       4\n",
       "reanalysis_min_air_temp_k                                       4\n",
       "reanalysis_precip_amt_kg_per_m2                                 4\n",
       "reanalysis_relative_humidity_percent                            4\n",
       "reanalysis_sat_precip_amt_mm                                    4\n",
       "reanalysis_specific_humidity_g_per_kg                           4\n",
       "reanalysis_tdtr_k                                               4\n",
       "station_avg_temp_c                                             37\n",
       "station_diur_temp_rng_c                                        37\n",
       "station_max_temp_c                                             14\n",
       "station_min_temp_c                                              8\n",
       "station_precip_mm                                              16"
      ]
     },
     "execution_count": 5,
     "metadata": {},
     "output_type": "execute_result"
    }
   ],
   "source": [
    "missing = {}\n",
    "for col in city_data:\n",
    "    missing_no = city_data[col].isna().sum()\n",
    "    if missing_no != 0:\n",
    "        missing[col] = missing_no;\n",
    "\n",
    "pd.DataFrame(missing.values(), index = missing.keys(), columns=['Number of missing elements'])"
   ]
  },
  {
   "cell_type": "markdown",
   "metadata": {},
   "source": [
    "We observe that some of these could be estimated using alternative features. That is hte example of \"station_avg_temp_c\", which could be estimated using \"station_max_temp_c\" and \"station_min_temp_c\" if they existed. Same could happen with \"reanalysis_avg_temp_k\". \n",
    "\n",
    "Nevertheless, since we are working with temporal series data it seems reasonable enough to interpolate the missing values using the data that we already know. This might be effective if the missing values are sparsely distributed."
   ]
  },
  {
   "cell_type": "code",
   "execution_count": 6,
   "metadata": {},
   "outputs": [
    {
     "name": "stderr",
     "output_type": "stream",
     "text": [
      "/home/osthaton/anaconda2/envs/py3/lib/python3.8/site-packages/pandas/core/generic.py:7023: SettingWithCopyWarning: \n",
      "A value is trying to be set on a copy of a slice from a DataFrame\n",
      "\n",
      "See the caveats in the documentation: https://pandas.pydata.org/pandas-docs/stable/user_guide/indexing.html#returning-a-view-versus-a-copy\n",
      "  self._update_inplace(new_data)\n"
     ]
    }
   ],
   "source": [
    "for col in missing.keys():\n",
    "    city_data[col].interpolate(inplace=True)"
   ]
  },
  {
   "cell_type": "markdown",
   "metadata": {},
   "source": [
    "# New features"
   ]
  },
  {
   "cell_type": "markdown",
   "metadata": {},
   "source": [
    "We infer some features that might be interesting: \n",
    "* ```day``` \n",
    "* ```month``` \n",
    "\n",
    "using ```week_start_date```. We remove the latter, and also ```city``` since we will perform our regression considering each city separatedly.\n",
    "\n"
   ]
  },
  {
   "cell_type": "code",
   "execution_count": 7,
   "metadata": {},
   "outputs": [
    {
     "name": "stderr",
     "output_type": "stream",
     "text": [
      "<ipython-input-7-b1320e8b2503>:1: SettingWithCopyWarning: \n",
      "A value is trying to be set on a copy of a slice from a DataFrame.\n",
      "Try using .loc[row_indexer,col_indexer] = value instead\n",
      "\n",
      "See the caveats in the documentation: https://pandas.pydata.org/pandas-docs/stable/user_guide/indexing.html#returning-a-view-versus-a-copy\n",
      "  city_data['month'] = city_data.apply(lambda x: int(x['week_start_date'][5:7]), axis=1);\n",
      "<ipython-input-7-b1320e8b2503>:2: SettingWithCopyWarning: \n",
      "A value is trying to be set on a copy of a slice from a DataFrame.\n",
      "Try using .loc[row_indexer,col_indexer] = value instead\n",
      "\n",
      "See the caveats in the documentation: https://pandas.pydata.org/pandas-docs/stable/user_guide/indexing.html#returning-a-view-versus-a-copy\n",
      "  city_data['day'] = city_data.apply(lambda x: int(x['week_start_date'][8:10]), axis=1);\n"
     ]
    }
   ],
   "source": [
    "city_data['month'] = city_data.apply(lambda x: int(x['week_start_date'][5:7]), axis=1);\n",
    "city_data['day'] = city_data.apply(lambda x: int(x['week_start_date'][8:10]), axis=1);\n",
    "city_data.pop('week_start_date');\n",
    "city_data.pop('city');\n",
    "\n",
    "# city_data['inverse_year'] = city_data['year'].apply(lambda x: 1/x);\n"
   ]
  },
  {
   "cell_type": "markdown",
   "metadata": {},
   "source": [
    "We include a feature that might be interesting, which is the ```season```. Considering that there are four seasons (spring, summer, autumn, winter), we provide a numerical label for each one of them. The underlying idea is that depending on the month, we will code a new feature indicating the season under analysis. This is clearly a periodic feature, which is potentially relatable with the number ```total_cases```.\n",
    "\n",
    "![Image](https://images.theconversation.com/files/253677/original/file-20190114-43517-11n11cr.jpg?ixlib=rb-1.1.0&rect=149%2C4%2C2318%2C1580&q=45&auto=format&w=496&fit=clip)"
   ]
  },
  {
   "cell_type": "code",
   "execution_count": 8,
   "metadata": {},
   "outputs": [
    {
     "name": "stderr",
     "output_type": "stream",
     "text": [
      "<ipython-input-8-8b7089fa2bd3>:14: SettingWithCopyWarning: \n",
      "A value is trying to be set on a copy of a slice from a DataFrame.\n",
      "Try using .loc[row_indexer,col_indexer] = value instead\n",
      "\n",
      "See the caveats in the documentation: https://pandas.pydata.org/pandas-docs/stable/user_guide/indexing.html#returning-a-view-versus-a-copy\n",
      "  city_data['season'] = city_data['month'].apply(season);\n"
     ]
    }
   ],
   "source": [
    "# We define the four seasons from the North hemishpere. \n",
    "def season(input_data):\n",
    "    input_data = int(input_data)\n",
    "    if (input_data >=1) & (input_data <=3): # Winter        \n",
    "        output = 4;        \n",
    "    if (input_data >=4) & (input_data <=6): # Spring        \n",
    "        output = 1;\n",
    "    if (input_data >=7) & (input_data <=9): # Summer        \n",
    "        output = 2;\n",
    "    if (input_data >=10) & (input_data <=12): # Autumn/Fall        \n",
    "        output = 3;\n",
    "    return output\n",
    "\n",
    "city_data['season'] = city_data['month'].apply(season);\n",
    "\n"
   ]
  },
  {
   "cell_type": "markdown",
   "metadata": {},
   "source": [
    "We also design a function that allows us to include a certain context. That is, our features would be formed not only by current data (in a certain time ```t```), but also by previous values (```t-1```, ```t-2```, etc.). However, we don't make extensive use of this function for now."
   ]
  },
  {
   "cell_type": "code",
   "execution_count": 9,
   "metadata": {},
   "outputs": [],
   "source": [
    "def context_extractor(data_structure):\n",
    "    alt_data_structure = data_structure[:];\n",
    "    \n",
    "    col_names = [i for i in data_structure.columns  if i not in ['total_cases','total_cases_LOG','diff','pos_neg']]\n",
    "    lag = 1;\n",
    "    col_names_lag = [i+'_'+str(lag) for i in col_names]\n",
    "    \n",
    "    alt_data_structure[col_names_lag] = city_data[col_names]\n",
    "    alt_data_structure['weekofyear_1'] = alt_data_structure['weekofyear_1'].shift(1)\n",
    "\n",
    "            \n",
    "    return alt_data_structure\n"
   ]
  },
  {
   "cell_type": "markdown",
   "metadata": {},
   "source": [
    "# Studying correlation\n",
    "It is quite important to understand what is the correlation between our existing features. An interesting fact is that correlation allows to measure some degree of similarity in a linear way, which means that two features that show a big value of such score can be linearly obtained from each other. This means that using features with a significant degree of correlation might worsen the performance of a model, since we would be feeding it using data that is redundant. Consequently, we need to minimize the number of features that are strongly correlated.\n",
    "\n",
    "On the contrary, features that are highly correlated with the labels, denoted ```total_cases```, are highly desirable since they can be helpful to make our predictions."
   ]
  },
  {
   "cell_type": "code",
   "execution_count": 12,
   "metadata": {},
   "outputs": [],
   "source": [
    "# We study each feature independently and how it relates with the rest\n",
    "from DengAI_utils import compute_correlation\n",
    "correlation_matrix = compute_correlation(city_data);"
   ]
  },
  {
   "cell_type": "markdown",
   "metadata": {},
   "source": [
    "We can observe that some of the features are strongly correlated, as it happens with ```ndvi_``` features and ```reanalysis_air_temp_k``` and ```reanalysis_avg_temp_k```.\n",
    "\n",
    "If we focus on the correlation between ```total_cases``` and our feature-set we obtain the following graph, which depicts that for the ```city=iq``` the top features are ```season```, a humidity variable and three temperature variables. Notice that these will change for ```city=sj```."
   ]
  },
  {
   "cell_type": "code",
   "execution_count": 13,
   "metadata": {},
   "outputs": [
    {
     "data": {
      "image/png": "[encoded data removed]",
      "text/plain": [
       "<Figure size 432x288 with 1 Axes>"
      ]
     },
     "metadata": {
      "needs_background": "light"
     },
     "output_type": "display_data"
    }
   ],
   "source": [
    "correlation_matrix.total_cases.drop('total_cases').sort_values(ascending=False).plot.barh();"
   ]
  },
  {
   "cell_type": "markdown",
   "metadata": {},
   "source": [
    "We can get a ranking with such scores and use it later to train our model."
   ]
  },
  {
   "cell_type": "code",
   "execution_count": 14,
   "metadata": {},
   "outputs": [
    {
     "data": {
      "text/plain": [
       "season                                   0.256320\n",
       "reanalysis_specific_humidity_g_per_kg    0.235218\n",
       "reanalysis_dew_point_temp_k              0.229183\n",
       "reanalysis_min_air_temp_k                0.211679\n",
       "station_min_temp_c                       0.206817\n",
       "year                                     0.179451\n",
       "station_avg_temp_c                       0.133989\n",
       "Name: total_cases, dtype: float64"
      ]
     },
     "execution_count": 14,
     "metadata": {},
     "output_type": "execute_result"
    }
   ],
   "source": [
    "sorted_features = correlation_matrix.total_cases.drop('total_cases').sort_values(ascending=False)\n",
    "sorted_features[:7]"
   ]
  },
  {
   "cell_type": "markdown",
   "metadata": {},
   "source": [
    "# Poly features\n",
    "Alternative features can be computed using polynomic functions. We select some of the features and attempt to extract a new set using their polynomic combinations."
   ]
  },
  {
   "cell_type": "code",
   "execution_count": 19,
   "metadata": {},
   "outputs": [],
   "source": [
    "selected_features = ['weekofyear','month','inverse_year','reanalysis_specific_humidity_g_per_kg','reanalysis_dew_point_temp_k','station_avg_temp_c','reanalysis_max_air_temp_k']\n",
    "from ML_utils.FeatureExtraction import FeatureExtraction\n",
    "feature_extractor = FeatureExtraction();\n",
    "feature_extractor.polynomial(9);\n",
    "feature_extractor.fit(city_data[[i for i in city_data.columns if i in selected_features]])\n",
    "poly_feat = pd.DataFrame(feature_extractor.transform(city_data[[i for i in city_data.columns if i in selected_features]], 'poly'))\n",
    "\n",
    "poly_feat['total_cases'] = city_data['total_cases']\n",
    "sorted_features = (poly_feat.corr()\n",
    "     .total_cases\n",
    "     .drop('total_cases') # don't compare with myself\n",
    "     .sort_values(ascending=False))\n",
    "poly_selection = sorted_features[:1].keys()"
   ]
  },
  {
   "cell_type": "code",
   "execution_count": 20,
   "metadata": {},
   "outputs": [
    {
     "name": "stderr",
     "output_type": "stream",
     "text": [
      "<ipython-input-20-83aa42b17f40>:7: SettingWithCopyWarning: \n",
      "A value is trying to be set on a copy of a slice from a DataFrame.\n",
      "Try using .loc[row_indexer,col_indexer] = value instead\n",
      "\n",
      "See the caveats in the documentation: https://pandas.pydata.org/pandas-docs/stable/user_guide/indexing.html#returning-a-view-versus-a-copy\n",
      "  city_data['poly_{}'.format(i)] = aux[:,i]\n"
     ]
    }
   ],
   "source": [
    "n_poly = 1;\n",
    "from sklearn.preprocessing import MinMaxScaler\n",
    "scaler = MinMaxScaler()\n",
    "aux = scaler.fit_transform( poly_feat[sorted_features[:n_poly].keys()])\n",
    "\n",
    "for i in range(n_poly):\n",
    "    city_data['poly_{}'.format(i)] = aux[:,i]"
   ]
  },
  {
   "cell_type": "markdown",
   "metadata": {},
   "source": [
    "In the city we are analysing, it seems that ```poly_0``` is working reasonably well. Notice that such polynomia was computed after studying different combinations until the 9th degree."
   ]
  },
  {
   "cell_type": "code",
   "execution_count": 23,
   "metadata": {},
   "outputs": [
    {
     "data": {
      "text/plain": [
       "<matplotlib.axes._subplots.AxesSubplot at 0x7fa84ca44f70>"
      ]
     },
     "execution_count": 23,
     "metadata": {},
     "output_type": "execute_result"
    },
    {
     "data": {
      "image/png": "[encoded data removed]",
      "text/plain": [
       "<Figure size 432x288 with 1 Axes>"
      ]
     },
     "metadata": {
      "needs_background": "light"
     },
     "output_type": "display_data"
    }
   ],
   "source": [
    "# This interesting\n",
    "(correlation_matrix\n",
    "     .total_cases\n",
    "     .drop('total_cases') # don't compare with myself\n",
    "     .sort_values(ascending=False)\n",
    "     .plot\n",
    "     .barh())"
   ]
  },
  {
   "cell_type": "code",
   "execution_count": 24,
   "metadata": {},
   "outputs": [
    {
     "data": {
      "text/plain": [
       "Index(['season', 'reanalysis_specific_humidity_g_per_kg',\n",
       "       'reanalysis_dew_point_temp_k', 'reanalysis_min_air_temp_k',\n",
       "       'station_min_temp_c', 'year', 'station_avg_temp_c',\n",
       "       'reanalysis_relative_humidity_percent',\n",
       "       'reanalysis_precip_amt_kg_per_m2', 'reanalysis_air_temp_k'],\n",
       "      dtype='object')"
      ]
     },
     "execution_count": 24,
     "metadata": {},
     "output_type": "execute_result"
    }
   ],
   "source": [
    "# This interesting\n",
    "n_features = 10;\n",
    "top_features = (correlation_matrix\n",
    "     .total_cases\n",
    "     .drop('total_cases') # don't compare with myself\n",
    "     .sort_values(ascending=False))[0:n_features]\n",
    "top_features.keys()"
   ]
  }
 ],
 "metadata": {
  "kernelspec": {
   "display_name": "Python 3",
   "language": "python",
   "name": "python3"
  },
  "language_info": {
   "codemirror_mode": {
    "name": "ipython",
    "version": 3
   },
   "file_extension": ".py",
   "mimetype": "text/x-python",
   "name": "python",
   "nbconvert_exporter": "python",
   "pygments_lexer": "ipython3",
   "version": "3.8.1"
  }
 },
 "nbformat": 4,
 "nbformat_minor": 2
}
