{
 "cells": [
  {
   "cell_type": "markdown",
   "metadata": {},
   "source": [
    "# DengAI\n",
    "This project comes from the challenge proposed by [DRIVENDATA](https://www.drivendata.org/competitions/44/dengai-predicting-disease-spread/). The goal consists of predicting how many dengue fever cases occur in two different cities. In order to do so, they provide a set of standard features that include aspects such as temperature, level of vegetation, etc.\n",
    "\n",
    "It is important to state that since our intention is to predict the number of cases this is a regression problem. However, if we quantize the ```y``` labels we might also consider a classification problem, although we leave such task for another analysis.\n",
    "\n",
    "---\n",
    "Antonio Rodríguez-Hidalgo (arodh91@gmail.com)\n",
    "\n",
    "2020"
   ]
  },
  {
   "cell_type": "markdown",
   "metadata": {},
   "source": [
    "## Reading data"
   ]
  },
  {
   "cell_type": "code",
   "execution_count": 1,
   "metadata": {},
   "outputs": [
    {
     "name": "stdout",
     "output_type": "stream",
     "text": [
      "Training data readed!\n",
      "Cities: ['sj' 'iq']\n"
     ]
    }
   ],
   "source": [
    "import pandas as pd\n",
    "import os\n",
    "import numpy as np\n",
    "\n",
    "def read_data(data_file):\n",
    "    data_structure = pd.read_csv(os.path.join('data',data_file))\n",
    "    return data_structure\n",
    "\n",
    "features = read_data('dengue_features_train.csv');\n",
    "labels = read_data('dengue_labels_train.csv');\n",
    "print('Training data readed!')\n",
    "\n",
    "# We mix features and labels in a single dataset for commodity\n",
    "features['total_cases']=labels['total_cases']\n",
    "# Number of cities\n",
    "print('Cities: {}'.format(features.city.unique()))\n",
    "model_season_name = 'GradientBoosting';\n",
    "model_trend_name = 'GradientBoosting';\n"
   ]
  },
  {
   "cell_type": "markdown",
   "metadata": {},
   "source": [
    "In order to grasp the dataset we focus on one of the cities. Then, we can replicate our analyses with the other one."
   ]
  },
  {
   "cell_type": "code",
   "execution_count": 2,
   "metadata": {},
   "outputs": [
    {
     "data": {
      "text/plain": [
       "Index(['city', 'year', 'weekofyear', 'week_start_date', 'ndvi_ne', 'ndvi_nw',\n",
       "       'ndvi_se', 'ndvi_sw', 'precipitation_amt_mm', 'reanalysis_air_temp_k',\n",
       "       'reanalysis_avg_temp_k', 'reanalysis_dew_point_temp_k',\n",
       "       'reanalysis_max_air_temp_k', 'reanalysis_min_air_temp_k',\n",
       "       'reanalysis_precip_amt_kg_per_m2',\n",
       "       'reanalysis_relative_humidity_percent', 'reanalysis_sat_precip_amt_mm',\n",
       "       'reanalysis_specific_humidity_g_per_kg', 'reanalysis_tdtr_k',\n",
       "       'station_avg_temp_c', 'station_diur_temp_rng_c', 'station_max_temp_c',\n",
       "       'station_min_temp_c', 'station_precip_mm', 'total_cases'],\n",
       "      dtype='object')"
      ]
     },
     "execution_count": 2,
     "metadata": {},
     "output_type": "execute_result"
    }
   ],
   "source": [
    "# We split data for the two cities\n",
    "city = 'sj'; # sj, iq\n",
    "city_data = features[features['city'] == city]\n",
    "labels = labels[labels['city'] == city]\n",
    "\n",
    "city_data.columns"
   ]
  },
  {
   "cell_type": "markdown",
   "metadata": {},
   "source": [
    "# Data imputation\n",
    "We check out how many of the features are missing (NaN) columnwise. It is important to appoint such values, since models might be affected by those points."
   ]
  },
  {
   "cell_type": "code",
   "execution_count": 3,
   "metadata": {},
   "outputs": [
    {
     "data": {
      "text/html": [
       "<div>\n",
       "<style scoped>\n",
       "    .dataframe tbody tr th:only-of-type {\n",
       "        vertical-align: middle;\n",
       "    }\n",
       "\n",
       "    .dataframe tbody tr th {\n",
       "        vertical-align: top;\n",
       "    }\n",
       "\n",
       "    .dataframe thead th {\n",
       "        text-align: right;\n",
       "    }\n",
       "</style>\n",
       "<table border=\"1\" class=\"dataframe\">\n",
       "  <thead>\n",
       "    <tr style=\"text-align: right;\">\n",
       "      <th></th>\n",
       "      <th>Number of missing elements</th>\n",
       "    </tr>\n",
       "  </thead>\n",
       "  <tbody>\n",
       "    <tr>\n",
       "      <th>ndvi_ne</th>\n",
       "      <td>191</td>\n",
       "    </tr>\n",
       "    <tr>\n",
       "      <th>ndvi_nw</th>\n",
       "      <td>49</td>\n",
       "    </tr>\n",
       "    <tr>\n",
       "      <th>ndvi_se</th>\n",
       "      <td>19</td>\n",
       "    </tr>\n",
       "    <tr>\n",
       "      <th>ndvi_sw</th>\n",
       "      <td>19</td>\n",
       "    </tr>\n",
       "    <tr>\n",
       "      <th>precipitation_amt_mm</th>\n",
       "      <td>9</td>\n",
       "    </tr>\n",
       "    <tr>\n",
       "      <th>reanalysis_air_temp_k</th>\n",
       "      <td>6</td>\n",
       "    </tr>\n",
       "    <tr>\n",
       "      <th>reanalysis_avg_temp_k</th>\n",
       "      <td>6</td>\n",
       "    </tr>\n",
       "    <tr>\n",
       "      <th>reanalysis_dew_point_temp_k</th>\n",
       "      <td>6</td>\n",
       "    </tr>\n",
       "    <tr>\n",
       "      <th>reanalysis_max_air_temp_k</th>\n",
       "      <td>6</td>\n",
       "    </tr>\n",
       "    <tr>\n",
       "      <th>reanalysis_min_air_temp_k</th>\n",
       "      <td>6</td>\n",
       "    </tr>\n",
       "    <tr>\n",
       "      <th>reanalysis_precip_amt_kg_per_m2</th>\n",
       "      <td>6</td>\n",
       "    </tr>\n",
       "    <tr>\n",
       "      <th>reanalysis_relative_humidity_percent</th>\n",
       "      <td>6</td>\n",
       "    </tr>\n",
       "    <tr>\n",
       "      <th>reanalysis_sat_precip_amt_mm</th>\n",
       "      <td>9</td>\n",
       "    </tr>\n",
       "    <tr>\n",
       "      <th>reanalysis_specific_humidity_g_per_kg</th>\n",
       "      <td>6</td>\n",
       "    </tr>\n",
       "    <tr>\n",
       "      <th>reanalysis_tdtr_k</th>\n",
       "      <td>6</td>\n",
       "    </tr>\n",
       "    <tr>\n",
       "      <th>station_avg_temp_c</th>\n",
       "      <td>6</td>\n",
       "    </tr>\n",
       "    <tr>\n",
       "      <th>station_diur_temp_rng_c</th>\n",
       "      <td>6</td>\n",
       "    </tr>\n",
       "    <tr>\n",
       "      <th>station_max_temp_c</th>\n",
       "      <td>6</td>\n",
       "    </tr>\n",
       "    <tr>\n",
       "      <th>station_min_temp_c</th>\n",
       "      <td>6</td>\n",
       "    </tr>\n",
       "    <tr>\n",
       "      <th>station_precip_mm</th>\n",
       "      <td>6</td>\n",
       "    </tr>\n",
       "  </tbody>\n",
       "</table>\n",
       "</div>"
      ],
      "text/plain": [
       "                                       Number of missing elements\n",
       "ndvi_ne                                                       191\n",
       "ndvi_nw                                                        49\n",
       "ndvi_se                                                        19\n",
       "ndvi_sw                                                        19\n",
       "precipitation_amt_mm                                            9\n",
       "reanalysis_air_temp_k                                           6\n",
       "reanalysis_avg_temp_k                                           6\n",
       "reanalysis_dew_point_temp_k                                     6\n",
       "reanalysis_max_air_temp_k                                       6\n",
       "reanalysis_min_air_temp_k                                       6\n",
       "reanalysis_precip_amt_kg_per_m2                                 6\n",
       "reanalysis_relative_humidity_percent                            6\n",
       "reanalysis_sat_precip_amt_mm                                    9\n",
       "reanalysis_specific_humidity_g_per_kg                           6\n",
       "reanalysis_tdtr_k                                               6\n",
       "station_avg_temp_c                                              6\n",
       "station_diur_temp_rng_c                                         6\n",
       "station_max_temp_c                                              6\n",
       "station_min_temp_c                                              6\n",
       "station_precip_mm                                               6"
      ]
     },
     "execution_count": 3,
     "metadata": {},
     "output_type": "execute_result"
    }
   ],
   "source": [
    "missing = {}\n",
    "for col in city_data:\n",
    "    missing_no = city_data[col].isna().sum()\n",
    "    if missing_no != 0:\n",
    "        missing[col] = missing_no;\n",
    "\n",
    "pd.DataFrame(missing.values(), index = missing.keys(), columns=['Number of missing elements'])"
   ]
  },
  {
   "cell_type": "code",
   "execution_count": 4,
   "metadata": {},
   "outputs": [],
   "source": [
    "from math import radians\n",
    "# T = 52;\n",
    "# dc = 1;\n",
    "# phase = 2*radians(180)/T*30;\n",
    "# sin_signal = (np.sin(2*radians(180)*np.arange(0,len(city_data))/T+phase));\n",
    "# sin_signal =sin_signal*(sin_signal>0)\n",
    "\n",
    "T = 104;\n",
    "dc = 1;\n",
    "phase = 2*radians(180)/T*50;\n",
    "sin_signal = np.abs(np.sin(2*radians(180)*np.arange(0,len(city_data))/T+phase));\n",
    "\n",
    "\n",
    "city_data.insert(0,'sin_signal',0.0)\n",
    "city_data['sin_signal'].values[:] = sin_signal;\n",
    "# plt.plot(sin_signal)\n",
    "# plt.plot(X['weekofyear']/52)"
   ]
  },
  {
   "cell_type": "markdown",
   "metadata": {},
   "source": [
    "We observe that some of these could be estimated using alternative features. That is hte example of \"station_avg_temp_c\", which could be estimated using \"station_max_temp_c\" and \"station_min_temp_c\" if they existed. Same could happen with \"reanalysis_avg_temp_k\". \n",
    "\n",
    "Nevertheless, since we are working with temporal series data it seems reasonable enough to interpolate the missing values using the data that we already know. This might be effective if the missing values are sparsely distributed."
   ]
  },
  {
   "cell_type": "code",
   "execution_count": 5,
   "metadata": {},
   "outputs": [],
   "source": [
    "for col in missing.keys():\n",
    "    # We don't use the 'inplace' parameter since it shows the SettingWithCopyWarning.\n",
    "    city_data[col].values[:] = city_data[col].interpolate(inplace=False)"
   ]
  },
  {
   "cell_type": "code",
   "execution_count": 6,
   "metadata": {},
   "outputs": [
    {
     "data": {
      "image/png": "[encoded data removed]",
      "text/plain": [
       "<Figure size 1080x360 with 1 Axes>"
      ]
     },
     "metadata": {
      "needs_background": "light"
     },
     "output_type": "display_data"
    }
   ],
   "source": [
    "import matplotlib.pyplot as plt\n",
    "plt.figure(figsize=(15,5))\n",
    "plt.plot(city_data['total_cases'])\n",
    "plt.xticks(city_data.loc[city_data['weekofyear']== 1]['year'].index, labels = city_data.loc[city_data['weekofyear']== 1]['year']);\n",
    "plt.grid()"
   ]
  },
  {
   "cell_type": "markdown",
   "metadata": {},
   "source": [
    "Having a look at the temporal data shows that there are certain years where there were plenty of cases of Denge, as it occurred during 1994 and 1998. Moreover, we observe some seasonal effect, since there is a significant increase in the number of cases normally after mid-year. Consequently, we will attempt to have a deeper grasp of this effect."
   ]
  },
  {
   "cell_type": "markdown",
   "metadata": {},
   "source": [
    "# Studying correlation\n",
    "It is quite important to understand what is the correlation between our existing features. An interesting fact is that correlation allows to measure some degree of similarity in a linear way, which means that two features that show a big value of such score can be linearly obtained from each other. This means that using features with a significant degree of correlation might worsen the performance of a model, since we would be feeding it using data that is redundant. Consequently, we need to minimize the number of features that are strongly correlated.\n",
    "\n",
    "On the contrary, features that are highly correlated with the labels, denoted ```total_cases```, are highly desirable since they can be helpful to make our predictions."
   ]
  },
  {
   "cell_type": "code",
   "execution_count": 7,
   "metadata": {},
   "outputs": [],
   "source": [
    "# We study each feature independently and how it relates with the rest\n",
    "from DengAI_utils import compute_correlation\n",
    "correlation_matrix = compute_correlation(city_data);"
   ]
  },
  {
   "cell_type": "markdown",
   "metadata": {},
   "source": [
    "We can observe that some of the features are strongly correlated, as it happens with ```ndvi_``` features and ```reanalysis_air_temp_k``` and ```reanalysis_avg_temp_k```.\n",
    "\n",
    "If we focus on the correlation between ```total_cases``` and our feature-set we obtain the following graph, which depicts that for the ```city=iq``` the top features are ```season```, a humidity variable and three temperature variables. Notice that these will change for ```city=sj```."
   ]
  },
  {
   "cell_type": "code",
   "execution_count": 8,
   "metadata": {},
   "outputs": [
    {
     "data": {
      "image/png": "[encoded data removed]",
      "text/plain": [
       "<Figure size 432x288 with 1 Axes>"
      ]
     },
     "metadata": {
      "needs_background": "light"
     },
     "output_type": "display_data"
    }
   ],
   "source": [
    "correlation_matrix.total_cases.drop('total_cases').apply(abs).sort_values(ascending=False).plot.barh();\n",
    "plt.grid()"
   ]
  },
  {
   "cell_type": "markdown",
   "metadata": {},
   "source": [
    "We can get a ranking with such scores and use it later to train our model."
   ]
  },
  {
   "cell_type": "code",
   "execution_count": 9,
   "metadata": {},
   "outputs": [
    {
     "data": {
      "text/plain": [
       "sin_signal                               0.336341\n",
       "weekofyear                               0.287134\n",
       "year                                     0.212690\n",
       "reanalysis_specific_humidity_g_per_kg    0.206942\n",
       "Name: total_cases, dtype: float64"
      ]
     },
     "execution_count": 9,
     "metadata": {},
     "output_type": "execute_result"
    }
   ],
   "source": [
    "season_features = correlation_matrix.total_cases.drop('total_cases').apply(abs).sort_values(ascending=False)\n",
    "n_features =4;\n",
    "season_features = season_features.drop('reanalysis_dew_point_temp_k')[:n_features]\n",
    "season_features"
   ]
  },
  {
   "cell_type": "markdown",
   "metadata": {},
   "source": [
    "# Modelling seasonality\n",
    "We attempt to model what happens with data using machine learning without any kind of temporal analysis, just for fun."
   ]
  },
  {
   "cell_type": "code",
   "execution_count": 10,
   "metadata": {},
   "outputs": [],
   "source": [
    "from sklearn.model_selection import train_test_split \n",
    "\n",
    "X = city_data[season_features.index];\n",
    "# X_pca = city_pcaed;\n",
    "y = labels;\n",
    "\n",
    "i_train, i_test = train_test_split(range(len(X.index)), train_size = .85, shuffle=False);\n",
    "\n",
    "# We need to scale this data\n",
    "X_train = X.iloc[i_train];\n",
    "X_test = X.iloc[i_test];\n",
    "\n",
    "# We need to scale labels as well.\n",
    "y_train = y['total_cases'].iloc[i_train];\n",
    "y_test = y['total_cases'].iloc[i_test]; \n",
    "\n",
    "n_splits = 10;"
   ]
  },
  {
   "cell_type": "code",
   "execution_count": null,
   "metadata": {},
   "outputs": [],
   "source": [
    "from ML_utils import Regressors\n",
    "model_season = Regressors.Regressors()\n",
    "model_season.get_regressor(model_season_name)\n",
    "model_season.get_TimeSeries_CV('neg_mean_squared_error', n_splits)\n",
    "model_season.fit_model(X_train, y_train)\n",
    "best_params_season = model_season.model.best_params_\n",
    "\n",
    "plt.figure(figsize=(15,10))\n",
    "plt.subplot(211)\n",
    "plt.plot( model_season.return_prediction(X_train), label='Prediction')\n",
    "plt.plot(y_train.values, label='Labels')\n",
    "plt.grid()\n",
    "plt.legend()\n",
    "plt.subplot(212)\n",
    "plt.plot( model_season.return_prediction(X_test), label='Prediction')\n",
    "plt.plot(y_test.values, label='Labels')\n",
    "plt.grid()\n",
    "plt.legend()\n",
    "\n",
    "target_trend = (y_train-model_season.return_prediction(X_train))"
   ]
  },
  {
   "cell_type": "markdown",
   "metadata": {},
   "source": [
    "# Anomaly detection\n",
    "We predict the target variable for the whole sequence. We will consider an anomaly every data sample whose target is on top of $1\\cdot \\sigma$, consering that our target variable has a mean value around 0 and follows no apparent trend."
   ]
  },
  {
   "cell_type": "code",
   "execution_count": null,
   "metadata": {},
   "outputs": [],
   "source": [
    "target_trend = (y['total_cases']-model_season.return_prediction(X))\n",
    "# Confidence interval\n",
    "corr_val = []\n",
    "for lag in np.arange(1,100):\n",
    "    corr_val.append(target_trend.autocorr(lag = lag))\n",
    "    \n",
    "plt.figure(figsize=(15,10))\n",
    "plt.subplot(311)\n",
    "plt.plot(corr_val)\n",
    "plt.grid()\n",
    "plt.title('Autocorrelation')\n",
    "\n",
    "plt.subplot(312)\n",
    "plt.plot(target_trend)\n",
    "plt.fill_between(np.arange(len(target_trend)), \n",
    "                 target_trend.mean()+target_trend.std(),\n",
    "                 target_trend.mean()-target_trend.std(), color='gray', alpha=0.5)\n",
    "plt.grid()\n",
    "plt.title('Residual signal with twice its standard deviation interval ($1\\sigma$).')\n",
    "\n",
    "plt.subplot(313)\n",
    "plt.hist(target_trend, bins = np.arange(-200,200,10));\n",
    "plt.grid()\n",
    "plt.title('Histogram of the residual signal.')"
   ]
  },
  {
   "cell_type": "code",
   "execution_count": null,
   "metadata": {},
   "outputs": [],
   "source": [
    "y_anomaly = np.abs(target_trend)>(target_trend.std())\n",
    "i_train_anomaly, i_test_anomaly = train_test_split(range(len(X.index)), train_size = .85, shuffle=True, stratify=y_anomaly, random_state=1492);\n",
    "\n",
    "X_train = X.iloc[i_train_anomaly];\n",
    "X_test = X.iloc[i_test_anomaly];\n",
    "\n",
    "y_train = y_anomaly.iloc[i_train_anomaly];\n",
    "y_test = y_anomaly.iloc[i_test_anomaly];\n",
    "\n"
   ]
  },
  {
   "cell_type": "code",
   "execution_count": null,
   "metadata": {},
   "outputs": [],
   "source": []
  },
  {
   "cell_type": "markdown",
   "metadata": {},
   "source": [
    "We consider that everything outside such interval is an anomaly. Consequently, we've got data to train a binary classifier.\n"
   ]
  },
  {
   "cell_type": "code",
   "execution_count": null,
   "metadata": {},
   "outputs": [],
   "source": [
    "anomaly_y = target_trend > (2*target_trend.std())\n",
    "\n",
    "from sklearn.ensemble import GradientBoostingClassifier\n",
    "anomaly_model = GradientBoostingClassifier()\n",
    "anomaly_model.fit(X_train, y_train)\n",
    "y_pred = anomaly_model.predict(X_train);\n",
    "\n",
    "plt.subplot(211)\n",
    "plt.plot(y_train.values!= y_pred*1)\n",
    "plt.title('XOR operation between predicted and train variables.')\n",
    "plt.subplot(212)\n",
    "plt.plot( y_test.values !=  anomaly_model.predict(X_test))"
   ]
  },
  {
   "cell_type": "code",
   "execution_count": null,
   "metadata": {},
   "outputs": [],
   "source": [
    "city_data.insert(1,'anomaly',False);\n",
    "city_data['anomaly'].values[:] = anomaly_model.predict(X);\n"
   ]
  },
  {
   "cell_type": "code",
   "execution_count": null,
   "metadata": {},
   "outputs": [],
   "source": []
  },
  {
   "cell_type": "markdown",
   "metadata": {},
   "source": [
    "# Trend detection"
   ]
  },
  {
   "cell_type": "code",
   "execution_count": null,
   "metadata": {},
   "outputs": [],
   "source": [
    "aux_city_data = city_data[:];\n",
    "aux_city_data['target_trend'] = target_trend;\n",
    "correlation_matrix = compute_correlation(aux_city_data);\n",
    "trend_features = correlation_matrix.target_trend.drop(['total_cases','target_trend']).apply(abs).sort_values(ascending=False).index[:n_features];\n",
    "correlation_matrix.target_trend.drop(['total_cases','target_trend']).apply(abs).sort_values(ascending=False).plot.barh();\n",
    "plt.grid()"
   ]
  },
  {
   "cell_type": "code",
   "execution_count": null,
   "metadata": {},
   "outputs": [],
   "source": []
  },
  {
   "cell_type": "code",
   "execution_count": null,
   "metadata": {},
   "outputs": [],
   "source": [
    "X = city_data[trend_features];\n",
    "y = labels;\n",
    "\n",
    "i_train, i_test = train_test_split(range(len(X.index)), train_size = .85, shuffle=False);\n",
    "\n",
    "# We need to scale this data\n",
    "X_train = X.iloc[i_train];\n",
    "X_test = X.iloc[i_test];\n",
    "\n",
    "# We need to scale labels as well.\n",
    "y_train = y['total_cases'].iloc[i_train];\n",
    "y_test = y['total_cases'].iloc[i_test]; \n",
    "\n"
   ]
  },
  {
   "cell_type": "code",
   "execution_count": null,
   "metadata": {},
   "outputs": [],
   "source": [
    "plt.figure(figsize=(15,15))\n",
    "# trend_features = season_features.drop('weekofyear').index#season_features.drop('weekofyear').index;\n",
    "\n",
    "n_weeks = 1;#52;\n",
    "for i in range(n_features-1):\n",
    "    plt.subplot(n_features+1,1,i+1)\n",
    "    plt.plot(X_train.rolling(n_weeks,min_periods=1).mean()[trend_features[i]])\n",
    "    plt.plot(X_train[trend_features[i]])\n",
    "    plt.title(trend_features[i])\n",
    "\n",
    "    \n",
    "\n",
    "model_trend = Regressors.Regressors()\n",
    "model_trend.get_regressor(model_trend_name)\n",
    "model_trend.get_TimeSeries_CV('neg_mean_squared_error', n_splits)\n",
    "model_trend.fit_model(X_train.rolling(n_weeks,min_periods=1).mean()[trend_features], y_train)\n",
    "best_params_trend = model_trend.model.best_params_"
   ]
  },
  {
   "cell_type": "code",
   "execution_count": null,
   "metadata": {},
   "outputs": [],
   "source": [
    "# GLOBAL MODEL\n",
    "X = city_data;\n",
    "y = labels;\n",
    "\n",
    "i_train, i_test = train_test_split(range(len(X.index)), train_size = .85, shuffle=False);\n",
    "# We need to scale this data\n",
    "X_train = X.iloc[i_train];\n",
    "X_test = X.iloc[i_test];\n",
    "\n",
    "# We need to scale labels as well.\n",
    "y_train = y['total_cases'].iloc[i_train];\n",
    "y_test = y['total_cases'].iloc[i_test]; "
   ]
  },
  {
   "cell_type": "code",
   "execution_count": null,
   "metadata": {},
   "outputs": [],
   "source": [
    "y_pred = model_season.return_prediction(X_test[season_features.index])+model_trend.return_prediction(X_test[trend_features])\n",
    "plt.plot(y_pred,label='prediction');\n",
    "plt.plot(y_test.values,label='labels')\n",
    "plt.legend()\n"
   ]
  },
  {
   "cell_type": "markdown",
   "metadata": {},
   "source": [
    "# Forecasting"
   ]
  },
  {
   "cell_type": "code",
   "execution_count": null,
   "metadata": {},
   "outputs": [],
   "source": []
  },
  {
   "cell_type": "code",
   "execution_count": null,
   "metadata": {},
   "outputs": [],
   "source": [
    "X_train = city_data;\n",
    "y_train = labels['total_cases'];\n",
    "\n",
    "plt.figure(figsize=(15,5))\n",
    "plt.plot(model_season.return_prediction(X_train[season_features.index]),label='season');\n",
    "plt.plot(model_trend.return_prediction(X_train[trend_features]),label='trend');\n",
    "plt.plot(y_train,label='label')\n",
    "plt.legend()\n",
    "plt.grid()\n",
    "\n",
    "\n",
    "model_season = Regressors.Regressors()\n",
    "model_season.get_regressor(model_season_name, input_params = best_params_season)\n",
    "model_season.get_TimeSeries_CV('neg_mean_squared_error', n_splits)\n",
    "model_season.fit_model(X_train[season_features.index], y_train)\n",
    "\n",
    "target_trend = (y_train-model_season.return_prediction(X_train[season_features.index]))\n",
    "\n",
    "\n",
    "model_trend = Regressors.Regressors()\n",
    "model_trend.get_regressor(model_trend_name, input_params = best_params_trend)\n",
    "model_trend.get_TimeSeries_CV('neg_mean_squared_error', n_splits)\n",
    "model_trend.fit_model(X_train.rolling(n_weeks,min_periods=1).mean()[trend_features], target_trend)\n",
    "\n"
   ]
  },
  {
   "cell_type": "code",
   "execution_count": null,
   "metadata": {},
   "outputs": [],
   "source": [
    "plt.figure(figsize=(15,5))\n",
    "plt.plot(model_season.return_prediction(X_train[season_features.index]),label='season');\n",
    "plt.plot(model_trend.return_prediction(X_train[trend_features]),label='trend');\n",
    "plt.plot(y_train,label='label')\n",
    "plt.legend()\n",
    "plt.grid()\n"
   ]
  },
  {
   "cell_type": "code",
   "execution_count": null,
   "metadata": {},
   "outputs": [],
   "source": [
    "unlabelled_features = read_data('dengue_features_test.csv');\n",
    "unlabelled_features = unlabelled_features[unlabelled_features['city'] == city]\n",
    "\n",
    "\n",
    "missing = {}\n",
    "for col in unlabelled_features:\n",
    "    missing_no = unlabelled_features[col].isna().sum()\n",
    "    if missing_no != 0:\n",
    "        missing[col] = missing_no;\n",
    "\n",
    "pd.DataFrame(missing.values(), index = missing.keys(), columns=['Number of missing elements'])\n",
    "for col in missing.keys():\n",
    "    # We don't use the 'inplace' parameter since it shows the SettingWithCopyWarning.\n",
    "    unlabelled_features[col].values[:] = unlabelled_features[col].interpolate(inplace=False)\n",
    "    \n",
    "\n",
    "# We compute sin_signal for the unlabelled dataset.\n",
    "sin_signal_unlabelled = np.abs(np.sin(2*radians(180)*(np.arange(0,len(unlabelled_features))+len(city_data))/T+phase));\n",
    "unlabelled_features.insert(0,'sin_signal',0.0);\n",
    "unlabelled_features['sin_signal'].values[:] = sin_signal_unlabelled; \n",
    "\n",
    "# We detect anomalous data and create their corresponding labels.\n",
    "X_test = unlabelled_features#[season_features.index];\n",
    "X_test.insert(1,'anomaly',False);\n",
    "X_test['anomaly'].values[:] = anomaly_model.predict(X_test[season_features.index]);"
   ]
  },
  {
   "cell_type": "code",
   "execution_count": null,
   "metadata": {},
   "outputs": [],
   "source": [
    "y_season = model_season.return_prediction(X_test[season_features.index])\n",
    "y_trend = model_trend.return_prediction(X_test[trend_features])\n",
    "plt.plot(y_season,label='season')\n",
    "plt.plot(y_trend,label='trend')\n",
    "plt.grid()\n",
    "plt.legend()"
   ]
  },
  {
   "cell_type": "code",
   "execution_count": null,
   "metadata": {},
   "outputs": [],
   "source": []
  },
  {
   "cell_type": "code",
   "execution_count": null,
   "metadata": {},
   "outputs": [],
   "source": []
  },
  {
   "cell_type": "code",
   "execution_count": null,
   "metadata": {},
   "outputs": [],
   "source": [
    "y_pred_total = y_season+y_trend;\n",
    "\n",
    "y_pred = pd.DataFrame(index = X_test.index+len(X))\n",
    "y_pred.insert(0,'city','')\n",
    "y_pred.insert(1,'year',0)\n",
    "y_pred.insert(2,'weekofyear',0)\n",
    "y_pred.insert(3,'total_cases',0.0)\n",
    "y_pred['total_cases'] =y_pred_total;\n",
    "\n",
    "\n",
    "plt.figure(figsize=(15,5))\n",
    "plt.plot(y_train, label = 'Labelled data');\n",
    "# plt.plot(y_scaler.inverse_transform(np.expand_dims(y_pred['total_cases'],axis=1)))\n",
    "plt.plot(y_pred['total_cases'], label= 'Unlabelled data')\n",
    "plt.grid()\n",
    "plt.legend()\n",
    "\n"
   ]
  },
  {
   "cell_type": "code",
   "execution_count": null,
   "metadata": {},
   "outputs": [],
   "source": []
  },
  {
   "cell_type": "code",
   "execution_count": null,
   "metadata": {},
   "outputs": [],
   "source": [
    "# y_pred.to_csv('output_{}.txt'.format(city),index=False)"
   ]
  },
  {
   "cell_type": "code",
   "execution_count": null,
   "metadata": {},
   "outputs": [],
   "source": []
  }
 ],
 "metadata": {
  "kernelspec": {
   "display_name": "Python 3",
   "language": "python",
   "name": "python3"
  },
  "language_info": {
   "codemirror_mode": {
    "name": "ipython",
    "version": 3
   },
   "file_extension": ".py",
   "mimetype": "text/x-python",
   "name": "python",
   "nbconvert_exporter": "python",
   "pygments_lexer": "ipython3",
   "version": "3.8.1"
  }
 },
 "nbformat": 4,
 "nbformat_minor": 4
}
